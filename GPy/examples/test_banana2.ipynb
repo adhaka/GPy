{
 "cells": [
  {
   "cell_type": "code",
   "execution_count": 3,
   "metadata": {
    "collapsed": false
   },
   "outputs": [],
   "source": [
    "import numpy as np\n",
    "import matplotlib.pyplot as plt\n",
    "%matplotlib inline\n",
    "import GPy\n",
    "import pods\n",
    "import pandas as pd\n",
    "from scipy import stats\n",
    "SEED=112\n",
    "np.random.seed(SEED)"
   ]
  },
  {
   "cell_type": "markdown",
   "metadata": {},
   "source": [
    "# Load Dataset"
   ]
  },
  {
   "cell_type": "code",
   "execution_count": 5,
   "metadata": {
    "collapsed": false
   },
   "outputs": [],
   "source": [
    "# oil_data = pods.datasets.banana()"
   ]
  },
  {
   "cell_type": "code",
   "execution_count": 7,
   "metadata": {
    "collapsed": false
   },
   "outputs": [],
   "source": [
    "filename = 'data/banana_X_train.txt'\n",
    "X_train = pd.read_table(filename, sep=',', header=None)\n",
    "X_tr = X_train.as_matrix()"
   ]
  },
  {
   "cell_type": "code",
   "execution_count": 8,
   "metadata": {
    "collapsed": true
   },
   "outputs": [],
   "source": [
    "Y_file = 'data/banana_Y_train.txt'\n",
    "Y_train = pd.read_table(Y_file, header=None)\n",
    "Y_tr = Y_train.as_matrix()"
   ]
  },
  {
   "cell_type": "code",
   "execution_count": 9,
   "metadata": {
    "collapsed": true
   },
   "outputs": [],
   "source": [
    "def plot_dataset(X, Y, Z=None):\n",
    "    ind = np.nonzero(Y)\n",
    "    neg_ind = np.where(Y==0)\n",
    "    neg_ind = list(neg_ind)\n",
    "    neg_indices = np.array(neg_ind[0])\n",
    "    ind = list(ind)\n",
    "    indices= np.array(ind[0]) \n",
    "    plt.plot(X_tr[indices,0], X_tr[indices,1], 'ro')\n",
    "    plt.plot(X_tr[neg_indices,0], X_tr[neg_indices,1], 'bo')\n",
    "    if Z is not None:\n",
    "        plt.plot(Z[:,0], Z[:,1], 'ko')\n",
    "    plt.xlim(-3,3)\n",
    "    plt.ylim(-3,3)\n",
    "    \n",
    "    "
   ]
  },
  {
   "cell_type": "code",
   "execution_count": 10,
   "metadata": {
    "collapsed": false
   },
   "outputs": [
    {
     "data": {
      "image/png": "[encoded data removed]",
      "text/plain": [
       "<matplotlib.figure.Figure at 0x7f4232f0e410>"
      ]
     },
     "metadata": {},
     "output_type": "display_data"
    }
   ],
   "source": [
    "plot_dataset(X_tr, Y_tr)"
   ]
  },
  {
   "cell_type": "markdown",
   "metadata": {},
   "source": [
    "# Set Kernel and number inducing points and train a full GP classifier"
   ]
  },
  {
   "cell_type": "code",
   "execution_count": 18,
   "metadata": {
    "collapsed": true
   },
   "outputs": [],
   "source": [
    "num_inducing=10"
   ]
  },
  {
   "cell_type": "code",
   "execution_count": 19,
   "metadata": {
    "collapsed": true
   },
   "outputs": [],
   "source": [
    "kernel= GPy.kern.RBF(input_dim=2, ARD=True, name='b_kern')"
   ]
  },
  {
   "cell_type": "code",
   "execution_count": 20,
   "metadata": {
    "collapsed": true
   },
   "outputs": [],
   "source": [
    "m = GPy.models.GPClassification(X_tr, Y_tr, kernel=kernel.copy())"
   ]
  },
  {
   "cell_type": "code",
   "execution_count": 21,
   "metadata": {
    "collapsed": false
   },
   "outputs": [
    {
     "data": {
      "text/plain": [
       "<paramz.optimization.optimization.opt_lbfgsb at 0x7f4230a081d0>"
      ]
     },
     "execution_count": 21,
     "metadata": {},
     "output_type": "execute_result"
    }
   ],
   "source": [
    "m.optimize()"
   ]
  },
  {
   "cell_type": "code",
   "execution_count": 22,
   "metadata": {
    "collapsed": false
   },
   "outputs": [
    {
     "data": {
      "text/plain": [
       "\u001b[1mgp_classification.b_kern.variance\u001b[0;0m:\n",
       "Param([ 4.18752489])\n",
       "\u001b[1mgp_classification.b_kern.lengthscale\u001b[0;0m:\n",
       "Param([ 0.88690258,  0.71926814])"
      ]
     },
     "execution_count": 22,
     "metadata": {},
     "output_type": "execute_result"
    }
   ],
   "source": [
    "m['']"
   ]
  },
  {
   "cell_type": "code",
   "execution_count": 23,
   "metadata": {
    "collapsed": false
   },
   "outputs": [
    {
     "data": {
      "text/plain": [
       "-119.58005413325489"
      ]
     },
     "execution_count": 23,
     "metadata": {},
     "output_type": "execute_result"
    }
   ],
   "source": [
    "m.log_likelihood()"
   ]
  },
  {
   "cell_type": "markdown",
   "metadata": {},
   "source": [
    "### Placement of inducing points for SVGPC"
   ]
  },
  {
   "cell_type": "code",
   "execution_count": 24,
   "metadata": {
    "collapsed": true
   },
   "outputs": [],
   "source": [
    "# m_epdtc = GPy.models.SparseGPClassification(X_tr, Y, kernel=kernel.copy(), num_inducing=10)"
   ]
  },
  {
   "cell_type": "code",
   "execution_count": 25,
   "metadata": {
    "collapsed": false
   },
   "outputs": [
    {
     "name": "stdout",
     "output_type": "stream",
     "text": [
      "hii\n"
     ]
    }
   ],
   "source": [
    "m_var1 = GPy.models.SparseGPClassification(X_tr, Y_tr, kernel=kernel.copy(), num_inducing=10, full_var=True)"
   ]
  },
  {
   "cell_type": "code",
   "execution_count": 26,
   "metadata": {
    "collapsed": true
   },
   "outputs": [],
   "source": [
    "ep_var = GPy.inference.latent_function_inference.EP_Var(ep_mode='alternated', parallel_updates=True)"
   ]
  },
  {
   "cell_type": "code",
   "execution_count": 27,
   "metadata": {
    "collapsed": true
   },
   "outputs": [],
   "source": [
    "# m_ep_var = GPy.core.SparseGP(X=X_tr, Y=Y.copy(), num_inducing=10, kernel=kernel.copy(),  inference_method=ep_var)"
   ]
  },
  {
   "cell_type": "code",
   "execution_count": 28,
   "metadata": {
    "collapsed": false
   },
   "outputs": [
    {
     "data": {
      "image/png": "[encoded data removed]",
      "text/plain": [
       "<matplotlib.figure.Figure at 0x7f4230790050>"
      ]
     },
     "metadata": {},
     "output_type": "display_data"
    }
   ],
   "source": [
    "plot_dataset(X_tr, Y_tr, m_var1.inducing_inputs.values)"
   ]
  },
  {
   "cell_type": "code",
   "execution_count": 29,
   "metadata": {
    "collapsed": false
   },
   "outputs": [
    {
     "data": {
      "text/plain": [
       "<paramz.optimization.optimization.opt_lbfgsb at 0x7f42307d5a90>"
      ]
     },
     "execution_count": 29,
     "metadata": {},
     "output_type": "execute_result"
    }
   ],
   "source": [
    "m_var1.optimize()"
   ]
  },
  {
   "cell_type": "markdown",
   "metadata": {},
   "source": [
    "### Placement of inducing points using full var_EP."
   ]
  },
  {
   "cell_type": "code",
   "execution_count": 30,
   "metadata": {
    "collapsed": false
   },
   "outputs": [
    {
     "data": {
      "image/png": "[encoded data removed]",
      "text/plain": [
       "<matplotlib.figure.Figure at 0x7f4230754d50>"
      ]
     },
     "metadata": {},
     "output_type": "display_data"
    }
   ],
   "source": [
    "plot_dataset(X_tr, Y_tr, m_var1.inducing_inputs.values)"
   ]
  },
  {
   "cell_type": "code",
   "execution_count": 31,
   "metadata": {
    "collapsed": true
   },
   "outputs": [],
   "source": [
    "i = np.random.permutation(X_tr.shape[0])[:num_inducing]\n",
    "Z = X_tr[i].copy()\n",
    "\n",
    "lik = GPy.likelihoods.Bernoulli()\n",
    "from GPy.core import SparseGP\n",
    "from GPy.inference.latent_function_inference import EPDTC\n",
    "\n",
    "m_epdtc = GPy.models.SparseGPClassification(X_tr.copy(), Y_tr.copy(), kernel=kernel.copy(), num_inducing=10, full_var=False)"
   ]
  },
  {
   "cell_type": "code",
   "execution_count": 32,
   "metadata": {
    "collapsed": false
   },
   "outputs": [
    {
     "data": {
      "image/png": "[encoded data removed]",
      "text/plain": [
       "<matplotlib.figure.Figure at 0x7f423079d890>"
      ]
     },
     "metadata": {},
     "output_type": "display_data"
    }
   ],
   "source": [
    "plot_dataset(X_tr, Y_tr, m_epdtc.inducing_inputs.values)\n"
   ]
  },
  {
   "cell_type": "code",
   "execution_count": 33,
   "metadata": {
    "collapsed": false
   },
   "outputs": [
    {
     "data": {
      "text/plain": [
       "<paramz.optimization.optimization.opt_lbfgsb at 0x7f42305f0a90>"
      ]
     },
     "execution_count": 33,
     "metadata": {},
     "output_type": "execute_result"
    }
   ],
   "source": [
    "m_epdtc.optimize()"
   ]
  },
  {
   "cell_type": "markdown",
   "metadata": {},
   "source": [
    "### Placement of inducing points using EPDTC."
   ]
  },
  {
   "cell_type": "code",
   "execution_count": 34,
   "metadata": {
    "collapsed": false
   },
   "outputs": [
    {
     "data": {
      "image/png": "[encoded data removed]",
      "text/plain": [
       "<matplotlib.figure.Figure at 0x7f42305e5ad0>"
      ]
     },
     "metadata": {},
     "output_type": "display_data"
    }
   ],
   "source": [
    "plot_dataset(X_tr, Y_tr, m_epdtc.inducing_inputs.values)\n"
   ]
  },
  {
   "cell_type": "markdown",
   "metadata": {},
   "source": [
    "### Placement of inducing points using EP-Var. Noticeable difference"
   ]
  },
  {
   "cell_type": "code",
   "execution_count": 35,
   "metadata": {
    "collapsed": false
   },
   "outputs": [
    {
     "data": {
      "image/png": "[encoded data removed]",
      "text/plain": [
       "<matplotlib.figure.Figure at 0x7f422e85a550>"
      ]
     },
     "metadata": {},
     "output_type": "display_data"
    }
   ],
   "source": [
    "plot_dataset(X_tr, Y_tr, m_var1.inducing_inputs.values)"
   ]
  },
  {
   "cell_type": "code",
   "execution_count": 36,
   "metadata": {
    "collapsed": true
   },
   "outputs": [],
   "source": [
    "np.random.seed(SEED)\n",
    "inds = np.random.permutation(X_tr.shape[0])[:num_inducing]\n",
    "Z_svgp = X_tr[inds].copy()\n",
    "\n",
    "lik = GPy.likelihoods.Bernoulli()\n",
    "m_svgp1 = GPy.core.SVGP(X_tr, Y_tr, Z=Z_svgp, kernel = kernel.copy(), likelihood=lik)\n"
   ]
  },
  {
   "cell_type": "code",
   "execution_count": 37,
   "metadata": {
    "collapsed": false
   },
   "outputs": [
    {
     "data": {
      "text/plain": [
       "<paramz.optimization.optimization.opt_lbfgsb at 0x7f422e8044d0>"
      ]
     },
     "execution_count": 37,
     "metadata": {},
     "output_type": "execute_result"
    }
   ],
   "source": [
    "m_svgp1.optimize('lbfgs', max_iters=1400)"
   ]
  },
  {
   "cell_type": "markdown",
   "metadata": {},
   "source": [
    "### Placement of inducing points for SVGPC (much closer to decision boundaries)."
   ]
  },
  {
   "cell_type": "code",
   "execution_count": 38,
   "metadata": {
    "collapsed": false
   },
   "outputs": [
    {
     "data": {
      "image/png": "[encoded data removed]",
      "text/plain": [
       "<matplotlib.figure.Figure at 0x7f422e88b7d0>"
      ]
     },
     "metadata": {},
     "output_type": "display_data"
    }
   ],
   "source": [
    "plot_dataset(X_tr, Y_tr, m_svgp1.inducing_inputs.values)"
   ]
  },
  {
   "cell_type": "code",
   "execution_count": 39,
   "metadata": {
    "collapsed": false
   },
   "outputs": [
    {
     "name": "stdout",
     "output_type": "stream",
     "text": [
      "('SVGP Banana:', <GPy.core.svgp.SVGP object at 0x7f42305ae950>)\n"
     ]
    }
   ],
   "source": [
    "print (\"SVGP Banana:\", m_svgp1)"
   ]
  },
  {
   "cell_type": "code",
   "execution_count": 40,
   "metadata": {
    "collapsed": false
   },
   "outputs": [
    {
     "name": "stdout",
     "output_type": "stream",
     "text": [
      "('SVGP Lengthscales:', \u001b[1mSVGP.b_kern.lengthscale\u001b[0;0m:\n",
      "Param([ 0.71366329,  0.61777839]))\n"
     ]
    }
   ],
   "source": [
    "print(\"SVGP Lengthscales:\", m_svgp1['b_kern.lengthscale'])"
   ]
  },
  {
   "cell_type": "code",
   "execution_count": 41,
   "metadata": {
    "collapsed": false
   },
   "outputs": [
    {
     "name": "stdout",
     "output_type": "stream",
     "text": [
      "('EPDTC Banana:', <GPy.models.sparse_gp_classification.SparseGPClassification object at 0x7f423076ab50>)\n"
     ]
    }
   ],
   "source": [
    "print(\"EPDTC Banana:\", m_epdtc)"
   ]
  },
  {
   "cell_type": "code",
   "execution_count": 42,
   "metadata": {
    "collapsed": false
   },
   "outputs": [
    {
     "name": "stdout",
     "output_type": "stream",
     "text": [
      "('EPDTC Lengthscales:', \u001b[1mSparseGPClassification.b_kern.lengthscale\u001b[0;0m:\n",
      "Param([ 0.99429812,  0.82970333]))\n"
     ]
    }
   ],
   "source": [
    "print(\"EPDTC Lengthscales:\", m_epdtc['b_kern.lengthscale'])"
   ]
  },
  {
   "cell_type": "code",
   "execution_count": 43,
   "metadata": {
    "collapsed": false
   },
   "outputs": [
    {
     "name": "stdout",
     "output_type": "stream",
     "text": [
      "('EPVar1 Banana:', <GPy.models.sparse_gp_classification.SparseGPClassification object at 0x7f4230790990>)\n"
     ]
    }
   ],
   "source": [
    "print(\"EPVar1 Banana:\", m_var1)"
   ]
  },
  {
   "cell_type": "code",
   "execution_count": 44,
   "metadata": {
    "collapsed": false
   },
   "outputs": [
    {
     "name": "stdout",
     "output_type": "stream",
     "text": [
      "('EPVar1 Lengthscales:', \u001b[1mSparseGPClassification.b_kern.lengthscale\u001b[0;0m:\n",
      "Param([ 1.03701845,  0.87600427]))\n"
     ]
    }
   ],
   "source": [
    "print(\"EPVar1 Lengthscales:\", m_var1['b_kern.lengthscale'])"
   ]
  },
  {
   "cell_type": "markdown",
   "metadata": {},
   "source": [
    "####  Note \n",
    "\n",
    "The next part of the code is for automating testset evaluation, we get models from each of these functions: EPDTC, EPVar and SVGPC: We split the data and do a cross fold validation with K = 10 and number of inducing points = 16%. The results are in tune with the ones reported by Hensman et al and other authors "
   ]
  },
  {
   "cell_type": "code",
   "execution_count": 45,
   "metadata": {
    "collapsed": true
   },
   "outputs": [],
   "source": [
    "def get_svgp_model(X_train, Y_train, Z=None, percent=0.15, batchsize=None, ):\n",
    "    kern_f = GPy.kern.RBF(X_train.shape[1], variance=10.0, lengthscale=1.0, ARD=True, name='f_rbf') \n",
    "#     kern_f = GPy.kern.RBF(X_train.shape[1], variance=10.0, lengthscale=(X_train.max(axis=0) - X_train.min(axis=0))/6.0, ARD=True, name='f_rbf') \n",
    "    kern_f += GPy.kern.Bias(X_train.shape[1], variance=0.1, name='f_bias')\n",
    "    kern_f += GPy.kern.White(X_train.shape[1], variance=1e-5, name='f_white')\n",
    "\n",
    "    lik = GPy.likelihoods.Bernoulli()\n",
    "    kern_f.name = 'f_kern'\n",
    "    num_inducing = int(X_train.shape[0]*percent)\n",
    "    print(\"percentage of inducing points:\", percent)\n",
    "    Z = np.random.permutation(X_train.copy())[:num_inducing, :]\n",
    "    m_svgp = GPy.core.SVGP(X=X_train.copy(), Y=Y_train.copy(), Z=Z.copy(), kernel=kern_f.copy(), likelihood=lik.copy(), mean_function=None, Y_metadata=None, name='svgp_crabs')\n",
    "    return m_svgp  \n",
    "    "
   ]
  },
  {
   "cell_type": "code",
   "execution_count": 46,
   "metadata": {
    "collapsed": true
   },
   "outputs": [],
   "source": [
    "def get_epdtc_model(X_train, Y_train, Z=None, percent=0.15):\n",
    "    kern_f = GPy.kern.RBF(X_train.shape[1], variance=10.0, lengthscale=1.0, ARD=True, name='f_rbf') \n",
    "    kern_f += GPy.kern.Bias(X_train.shape[1], variance=0.1, name='f_bias')\n",
    "    kern_f += GPy.kern.White(X_train.shape[1], variance=1e-5, name='f_white')\n",
    "    \n",
    "    epdtc = GPy.inference.latent_function_inference.EPDTC(ep_mode='alternated',  parallel_updates=True)\n",
    "    lik = GPy.likelihoods.Bernoulli()\n",
    "    kern_f.name = 'f_kern'\n",
    "    num_inducing = int(X_train.shape[0]*percent)\n",
    "    print(\"percentage of inducing points:\", percent)\n",
    "    Z = np.random.permutation(X_train.copy())[:num_inducing, :]\n",
    "#     m_epdtc = GPy.core.SparseGP(X=X_train.copy(), Y=Y_train.copy(), Z=Z.copy(), kernel=kern_f.copy(), likelihood=lik.copy(), inference_method=epdtc, mean_function=None, Y_metadata=None, name='epdtc')\n",
    "    m_epdtc =  GPy.models.SparseGPClassification(X=X_train.copy(), Y=Y_train.copy(), Z=Z.copy(), kernel=kern_f.copy(), likelihood=lik.copy(), Y_metadata=None, full_var=False)\n",
    "    return m_epdtc"
   ]
  },
  {
   "cell_type": "code",
   "execution_count": 47,
   "metadata": {
    "collapsed": true
   },
   "outputs": [],
   "source": [
    "def get_epvar_model(X_train, Y_train, Z=None, percent=0.15):\n",
    "    kern_f = GPy.kern.RBF(X_train.shape[1], variance=10.0, lengthscale=1.0, ARD=True, name='f_rbf') \n",
    "    kern_f += GPy.kern.Bias(X_train.shape[1], variance=0.1, name='f_bias')\n",
    "    kern_f += GPy.kern.White(X_train.shape[1], variance=1e-5, name='f_white')\n",
    "    \n",
    "#     epdtc = GPy.inference.latent_function_inference.EPDTC(ep_mode='alternated',  parallel_updates=True)\n",
    "    lik = GPy.likelihoods.Bernoulli()\n",
    "    kern_f.name = 'f_kern'\n",
    "    num_inducing = int(X_train.shape[0]*percent)\n",
    "    print(\"percentage of inducing points:\", percent)\n",
    "    Z = np.random.permutation(X_train.copy())[:num_inducing, :]\n",
    "#     m_epdtc = GPy.core.SparseGP(X=X_train.copy(), Y=Y_train.copy(), Z=Z.copy(), kernel=kern_f.copy(), likelihood=lik.copy(), inference_method=epdtc, mean_function=None, Y_metadata=None, name='epdtc')\n",
    "#     m_epvar =  GPy.models.SparseGPClassification(X=X_train.copy(), Y=Y_train.copy(), Z=Z.copy(), kernel=kern_f.copy(), likelihood=lik.copy(), Y_metadata=None, full_var=True)\n",
    "    m_epvar = GPy.models.SparseGPClassification(X_train, Y_train, kernel=kernel.copy(), num_inducing=54, full_var=True)\n",
    "    return m_epvar"
   ]
  },
  {
   "cell_type": "code",
   "execution_count": 48,
   "metadata": {
    "collapsed": true
   },
   "outputs": [],
   "source": [
    "import GPy.util.classification\n",
    "\n",
    "class Dataset():\n",
    "    def __init__(self, X, Y, Xtest=None, Ytest=None, K=10, seed=42):\n",
    "        X_orig = X.copy()\n",
    "        Y_orig = Y.copy()\n",
    "        np.random.seed(seed=seed)\n",
    "        if Y.ndim == 1:\n",
    "            Y = Y.reshape(-1,1)\n",
    "        \n",
    "        randomize = np.arange(X.shape[0])\n",
    "        np.random.shuffle(randomize)\n",
    "        X = X[randomize,:]\n",
    "        Y = Y[randomize,:]\n",
    "        self.K = K\n",
    "        self.X = X\n",
    "        self.Y = Y\n",
    "        self.m_list= []\n",
    "        self.X_test_list = []\n",
    "        self.Y_test_list = []\n",
    "        self.partition_flag = False\n",
    "        self.model_fn_flag = False\n",
    "    \n",
    "    def split_data(self):\n",
    "        X_train_list = []\n",
    "        Y_train_list = []\n",
    "        num_batch = int(self.X.shape[0]/self.K)\n",
    "        rem = self.X.shape[0] % self.K\n",
    "        \n",
    "\n",
    "        for i in range(self.K-1):\n",
    "            X_batch = self.X[i*num_batch:(i+1)*num_batch,:]  \n",
    "            Y_batch = self.Y[i*num_batch:(i+1)*num_batch,:]\n",
    "            X_train_list.append(X_batch)\n",
    "            Y_train_list.append(Y_batch)\n",
    "        X_train_list.append(self.X[(self.K-1)*num_batch:self.K*num_batch+rem,:])\n",
    "        Y_train_list.append(self.Y[(self.K-1)*num_batch:self.K*num_batch+rem,:])\n",
    "        self.X_train_list = X_train_list\n",
    "        self.Y_train_list = Y_train_list\n",
    "        self.partition_flag = True\n",
    "        \n",
    "    def show_data_partition(self):\n",
    "        if self.partition_flag is False:\n",
    "            self.split_data()\n",
    "        for i in self.X_train_list:\n",
    "            print(len(i))\n",
    "    \n",
    "    def set_model_function(self, fn, **kwargs):\n",
    "        self.get_model_fn = fn\n",
    "        self.fn_args = dict()\n",
    "        self.fn_kwargs = kwargs\n",
    "        self.model_fn_flag = True\n",
    "    \n",
    "    def get_model_function(self):\n",
    "        return self.get_model_fn\n",
    "\n",
    "    def get_model_list(self):\n",
    "        return self.m_list\n",
    "    \n",
    "    def get_test_set(self, i):\n",
    "        return self.X_test_list[i], self.Y_test_list[i]\n",
    "    \n",
    "    def train_KFold(self):\n",
    "        if self.partition_flag is False:\n",
    "            self.split_data()\n",
    "        \n",
    "        if self.model_fn_flag is False:\n",
    "            self.set_model_function()\n",
    "        \n",
    "        print(\"value of K: {}\".format(self.K)) \n",
    "        for i in range(self.K):\n",
    "            Xtest = self.X_train_list.pop(i)\n",
    "            Ytest =  self.Y_train_list.pop(i)\n",
    "            Xtrain_all = np.concatenate(self.X_train_list, axis=0)\n",
    "            Ytrain_all = np.concatenate(self.Y_train_list, axis=0)\n",
    "            self.X_train_list.insert(i, Xtest)\n",
    "            self.Y_train_list.insert(i, Ytest)\n",
    "            self.X_test_list.append(Xtest)\n",
    "            self.Y_test_list.append(Ytest)\n",
    "#             m = get_svgp_model(Xtrain_all, Ytrain_all)\n",
    "            m = self.get_model_fn(Xtrain_all, Ytrain_all, **self.fn_kwargs)\n",
    "            m.optimize('lbfgs', max_iters=900)\n",
    "            self.m_list.append(m)\n",
    "\n",
    "\n",
    "\n",
    "class EvalClassification():\n",
    "    def __init__(self, m):\n",
    "        self.m = m\n",
    "    \n",
    "    def NLL(self):\n",
    "        return self.m.log_likelihood()\n",
    "    \n",
    "    def TestNLL1(self, Xtest, Ytest):\n",
    "        mu = self.m._raw_predict(Xtest)\n",
    "        predict_mean = self.m.likelihood.gp_link.transf(mu)\n",
    "        target = Ytest\n",
    "        probs, probs_var = self.m.predict(Xtest)\n",
    "        nlprobs = np.log(probs)\n",
    "        nlprobsvar = np.log(probs_var)\n",
    "        NLP = np.mean(np.log(probs), axis=0)\n",
    "#         NLP_Var = np.median(np.log(nlprobsvar), axis=0)\n",
    "        self.probs = probs\n",
    "        return probs, NLP\n",
    "    \n",
    "    def TestNLL(self, Xtest, Ytest, median=False):\n",
    "        mu, var = self.m._raw_predict(Xtest)\n",
    "        nll = -stats.norm.logcdf(1.0 * Ytest * mu / np.sqrt(1 + var))\n",
    "        if median:\n",
    "            val= np.median(nll)\n",
    "        else:\n",
    "            val= np.mean(nll)\n",
    "        sigma2 = 2*np.nanstd(nll)\n",
    "        return val, sigma2\n",
    "        \n",
    "    \n",
    "    def conf_matrix(self, Xtest, Ytest, threshold=0.5):\n",
    "        assert self.probs.size == Ytest.size\n",
    "        decision = np.zeros((Ytest.size, 1))\n",
    "        decision[self.probs>threshold] = 1\n",
    "        diff = decision - Ytest\n",
    "        f_0 = diff[diff==-1].size\n",
    "        f_1 = diff[diff==1].size    \n",
    "        t_1 = np.sum(decision[diff ==0])\n",
    "        t_0 = Ytest.size - f_0 - f_1 - t_1\n",
    "        correct = t_0+t_1\n",
    "        false = Ytest.size -1\n",
    "        error = (f_0 + f_1)/ np.float(Ytest.size)\n",
    "        return error, f_0, f_1, t_0, t_1\n",
    "        "
   ]
  },
  {
   "cell_type": "code",
   "execution_count": 49,
   "metadata": {
    "collapsed": true
   },
   "outputs": [],
   "source": [
    "Y_train = Y_tr.reshape(-1,1)\n",
    "X_train = X_tr"
   ]
  },
  {
   "cell_type": "markdown",
   "metadata": {},
   "source": [
    "#### Evaluation of SVGPC model on Training Set(Training Error)"
   ]
  },
  {
   "cell_type": "code",
   "execution_count": 57,
   "metadata": {
    "collapsed": false
   },
   "outputs": [
    {
     "name": "stdout",
     "output_type": "stream",
     "text": [
      "0.1175\n"
     ]
    }
   ],
   "source": [
    "\n",
    "probs, probs_var = m_svgp1.predict(X_train)\n",
    "decision = np.zeros((Y_train.size, 1))\n",
    "decision[probs>0.5] = 1\n",
    "diff = decision - Y_train\n",
    "f_0 = diff[diff==-1].size\n",
    "f_1 = diff[diff==1].size \n",
    "error = np.sum(f_0+f_1)/ np.float(Y_train.size)\n",
    "print(error)\n"
   ]
  },
  {
   "cell_type": "markdown",
   "metadata": {},
   "source": [
    "#### Evaluation of EPDTC model on Training Set(Training Error)"
   ]
  },
  {
   "cell_type": "code",
   "execution_count": 58,
   "metadata": {
    "collapsed": false
   },
   "outputs": [
    {
     "name": "stdout",
     "output_type": "stream",
     "text": [
      "0.0925\n"
     ]
    }
   ],
   "source": [
    "probs, probs_var = m_epdtc.predict(X_train)\n",
    "decision = np.zeros((Y_train.size, 1))\n",
    "decision[probs>0.5] = 1\n",
    "diff = decision - Y_train\n",
    "f_0 = diff[diff==-1].size\n",
    "f_1 = diff[diff==1].size \n",
    "error = np.sum(f_0+f_1)/ np.float(Y_train.size)\n",
    "print(error)\n"
   ]
  },
  {
   "cell_type": "markdown",
   "metadata": {},
   "source": [
    "#### Evaluation of EPVar model on Training Set(Training Error)"
   ]
  },
  {
   "cell_type": "code",
   "execution_count": 59,
   "metadata": {
    "collapsed": false
   },
   "outputs": [
    {
     "name": "stdout",
     "output_type": "stream",
     "text": [
      "0.0875\n"
     ]
    }
   ],
   "source": [
    "probs, probs_var = m_var1.predict(X_train)\n",
    "decision = np.zeros((Y_train.size, 1))\n",
    "decision[probs>0.5] = 1\n",
    "diff = decision - Y_train\n",
    "f_0 = diff[diff==-1].size\n",
    "f_1 = diff[diff==1].size \n",
    "error = np.sum(f_0+f_1)/ np.float(Y_train.size)\n",
    "print(error)\n"
   ]
  },
  {
   "cell_type": "code",
   "execution_count": 51,
   "metadata": {
    "collapsed": true
   },
   "outputs": [],
   "source": [
    "X_train = X_tr\n",
    "Y_train = Y_tr"
   ]
  },
  {
   "cell_type": "markdown",
   "metadata": {},
   "source": [
    "#### Test set evaluation for EPDTC"
   ]
  },
  {
   "cell_type": "code",
   "execution_count": 52,
   "metadata": {
    "collapsed": false
   },
   "outputs": [
    {
     "name": "stdout",
     "output_type": "stream",
     "text": [
      "40\n",
      "40\n",
      "40\n",
      "40\n",
      "40\n",
      "40\n",
      "40\n",
      "40\n",
      "40\n",
      "40\n",
      "value of K: 10\n",
      "('percentage of inducing points:', 0.16)\n",
      "('percentage of inducing points:', 0.16)\n",
      "('percentage of inducing points:', 0.16)\n",
      "('percentage of inducing points:', 0.16)\n",
      "('percentage of inducing points:', 0.16)\n",
      "('percentage of inducing points:', 0.16)\n",
      "('percentage of inducing points:', 0.16)\n",
      "('percentage of inducing points:', 0.16)\n",
      "('percentage of inducing points:', 0.16)\n",
      "('percentage of inducing points:', 0.16)\n"
     ]
    }
   ],
   "source": [
    "ds1 = Dataset(X=X_train, Y=Y_train, K=10)\n",
    "ds1.split_data()\n",
    "ds1.show_data_partition()\n",
    "ds1.set_model_function(get_epdtc_model, percent=0.16)\n",
    "ds1.train_KFold()\n"
   ]
  },
  {
   "cell_type": "code",
   "execution_count": 53,
   "metadata": {
    "collapsed": false
   },
   "outputs": [
    {
     "name": "stdout",
     "output_type": "stream",
     "text": [
      "('Averaged NLL after 10 fold crossvalidation Median:', 0.39806568298111256)\n",
      "('Averaged NLL after 10 fold crossvalidation Mean:', 0.42983981663089138)\n",
      "('Averaged NLL after 10 fold crossvalidation:', 0.092499999999999999)\n",
      "('Test NLL for each test set:', [0.3976427774319552, 0.34596455866202802, 0.66740709041746593, 0.46056720482646119, 0.28227503692501943, 0.39298905535578293, 0.52773585216985663, 0.38679940993974704, 0.43852859205032779, 0.39848858853026992])\n"
     ]
    }
   ],
   "source": [
    "test_nll_list = []\n",
    "test_nll_list2 = []\n",
    "error_list= []\n",
    "sigma2_list = []\n",
    "\n",
    "for ind, mi in enumerate(ds1.get_model_list()):\n",
    "    ec = EvalClassification(mi)\n",
    "    xtest, ytest = ds1.get_test_set(ind)\n",
    "    testnll1, sigma2 = ec.TestNLL(xtest, ytest)\n",
    "    \n",
    "    probs2, testnll2  = ec.TestNLL1(xtest, ytest)\n",
    "#     testnll2 = ec.TestNLL1(xtest, ytest)\n",
    "    error, f_0, f_1, t_0, t_1 = ec.conf_matrix(xtest, ytest)\n",
    "    test_nll_list.append(testnll1)\n",
    "    sigma2_list.append(sigma2)\n",
    "    error_list.append(error)\n",
    "\n",
    "print(\"Averaged NLL after 10 fold crossvalidation Median:\", np.median(test_nll_list))\n",
    "print(\"Averaged NLL after 10 fold crossvalidation Mean:\", np.mean(test_nll_list))\n",
    "# print np.median(sigma2_list)\n",
    "print(\"Averaged NLL after 10 fold crossvalidation:\", np.mean(error_list))\n",
    "print(\"Test NLL for each test set:\", test_nll_list)"
   ]
  },
  {
   "cell_type": "markdown",
   "metadata": {},
   "source": [
    "#### Test set evaluation for SVGPC"
   ]
  },
  {
   "cell_type": "code",
   "execution_count": 49,
   "metadata": {
    "collapsed": false
   },
   "outputs": [
    {
     "name": "stdout",
     "output_type": "stream",
     "text": [
      "40\n",
      "40\n",
      "40\n",
      "40\n",
      "40\n",
      "40\n",
      "40\n",
      "40\n",
      "40\n",
      "40\n",
      "value of K: 10\n",
      "percentage of inducing points: 0.16\n",
      "percentage of inducing points: 0.16\n",
      "percentage of inducing points: 0.16\n",
      "percentage of inducing points: 0.16\n",
      "percentage of inducing points: 0.16\n",
      "percentage of inducing points: 0.16\n",
      "percentage of inducing points: 0.16\n",
      "percentage of inducing points: 0.16\n",
      "percentage of inducing points: 0.16\n",
      "percentage of inducing points: 0.16\n"
     ]
    }
   ],
   "source": [
    "ds2 = Dataset(X=X_train, Y=Y_train, K=10)\n",
    "ds2.split_data()\n",
    "ds2.show_data_partition()\n",
    "ds2.set_model_function(get_svgp_model, percent=0.16)\n",
    "ds2.train_KFold()"
   ]
  },
  {
   "cell_type": "code",
   "execution_count": 50,
   "metadata": {
    "collapsed": false
   },
   "outputs": [
    {
     "name": "stdout",
     "output_type": "stream",
     "text": [
      "Averaged NLL after 10 fold crossvalidation Median: 0.39412170316\n",
      "Averaged NLL after 10 fold crossvalidation Mean: 0.428738005325\n",
      "Averaged NLL after 10 fold crossvalidation: 0.085\n",
      "Test NLL for each test set: [0.39556529788161321, 0.33590025836229975, 0.69923639762843082, 0.45603489538015313, 0.27063910915433559, 0.39080780070178489, 0.53374110090858651, 0.38067827252593195, 0.43209881226357572, 0.39267810843833939]\n"
     ]
    }
   ],
   "source": [
    "test_nll_list = []\n",
    "test_nll_list2 = []\n",
    "error_list= []\n",
    "sigma2_list = []\n",
    "\n",
    "for ind, mi in enumerate(ds2.get_model_list()):\n",
    "    ec = EvalClassification(mi)\n",
    "    xtest, ytest = ds2.get_test_set(ind)\n",
    "    testnll1, sigma2 = ec.TestNLL(xtest, ytest)\n",
    "    \n",
    "    probs2, testnll2  = ec.TestNLL1(xtest, ytest)\n",
    "#     testnll2 = ec.TestNLL1(xtest, ytest)\n",
    "    error, f_0, f_1, t_0, t_1 = ec.conf_matrix(xtest, ytest)\n",
    "    test_nll_list.append(testnll1)\n",
    "    sigma2_list.append(sigma2)\n",
    "    error_list.append(error)\n",
    "\n",
    "print(\"Averaged NLL after 10 fold crossvalidation Median:\", np.median(test_nll_list))\n",
    "print(\"Averaged NLL after 10 fold crossvalidation Mean:\", np.mean(test_nll_list))\n",
    "# print np.median(sigma2_list)\n",
    "print(\"Averaged NLL after 10 fold crossvalidation:\", np.mean(error_list))\n",
    "print(\"Test NLL for each test set:\", test_nll_list)\n"
   ]
  },
  {
   "cell_type": "markdown",
   "metadata": {},
   "source": [
    "#### Test set evaluation for EPVar"
   ]
  },
  {
   "cell_type": "code",
   "execution_count": 52,
   "metadata": {
    "collapsed": false
   },
   "outputs": [
    {
     "name": "stdout",
     "output_type": "stream",
     "text": [
      "40\n",
      "40\n",
      "40\n",
      "40\n",
      "40\n",
      "40\n",
      "40\n",
      "40\n",
      "40\n",
      "40\n",
      "value of K: 10\n",
      "percentage of inducing points: 16\n",
      "percentage of inducing points: 16\n",
      "percentage of inducing points: 16\n",
      "percentage of inducing points: 16\n",
      "percentage of inducing points: 16\n",
      "percentage of inducing points: 16\n",
      "percentage of inducing points: 16\n",
      "percentage of inducing points: 16\n",
      "percentage of inducing points: 16\n",
      "percentage of inducing points: 16\n"
     ]
    }
   ],
   "source": [
    "dsvar = Dataset(X=X_train, Y=Y_train, K=10)\n",
    "dsvar.split_data()\n",
    "dsvar.show_data_partition()\n",
    "dsvar.set_model_function(get_epvar_model, percent=16)\n",
    "dsvar.train_KFold()"
   ]
  },
  {
   "cell_type": "code",
   "execution_count": 53,
   "metadata": {
    "collapsed": false
   },
   "outputs": [
    {
     "name": "stdout",
     "output_type": "stream",
     "text": [
      "Averaged NLL after 10 fold crossvalidation Median: 0.416702621523\n",
      "Averaged NLL after 10 fold crossvalidation Mean: 0.438312781354\n",
      "Averaged NLL after 10 fold crossvalidation: 0.0925\n",
      "Test NLL for each test set: [0.42113922889094219, 0.37228382600220239, 0.60585476362973834, 0.47595438784313349, 0.3173542418524754, 0.40136967443929816, 0.51804711268251502, 0.41226601415592645, 0.44755900601370174, 0.41129955802588614]\n"
     ]
    }
   ],
   "source": [
    "\n",
    "test_nll_list = []\n",
    "test_nll_list2 = []\n",
    "error_list= []\n",
    "sigma2_list = []\n",
    "\n",
    "for ind, mi in enumerate(dsvar.get_model_list()):\n",
    "    ec = EvalClassification(mi)\n",
    "    xtest, ytest = dsvar.get_test_set(ind)\n",
    "    testnll1, sigma2 = ec.TestNLL(xtest, ytest)\n",
    "    \n",
    "    probs2, testnll2  = ec.TestNLL1(xtest, ytest)\n",
    "#     testnll2 = ec.TestNLL1(xtest, ytest)\n",
    "    error, f_0, f_1, t_0, t_1 = ec.conf_matrix(xtest, ytest)\n",
    "    test_nll_list.append(testnll1)\n",
    "    sigma2_list.append(sigma2)\n",
    "    error_list.append(error)\n",
    "\n",
    "print(\"Averaged NLL after 10 fold crossvalidation Median:\", np.median(test_nll_list))\n",
    "print(\"Averaged NLL after 10 fold crossvalidation Mean:\", np.mean(test_nll_list))\n",
    "# print np.median(sigma2_list)\n",
    "print(\"Averaged NLL after 10 fold crossvalidation:\", np.mean(error_list))\n",
    "print(\"Test NLL for each test set:\", test_nll_list)"
   ]
  },
  {
   "cell_type": "code",
   "execution_count": null,
   "metadata": {
    "collapsed": true
   },
   "outputs": [],
   "source": []
  },
  {
   "cell_type": "code",
   "execution_count": null,
   "metadata": {
    "collapsed": true
   },
   "outputs": [],
   "source": []
  },
  {
   "cell_type": "code",
   "execution_count": null,
   "metadata": {
    "collapsed": true
   },
   "outputs": [],
   "source": []
  },
  {
   "cell_type": "code",
   "execution_count": null,
   "metadata": {
    "collapsed": true
   },
   "outputs": [],
   "source": []
  },
  {
   "cell_type": "code",
   "execution_count": null,
   "metadata": {
    "collapsed": true
   },
   "outputs": [],
   "source": [
    "import sklearn.datasets as ds"
   ]
  },
  {
   "cell_type": "code",
   "execution_count": null,
   "metadata": {
    "collapsed": true
   },
   "outputs": [],
   "source": []
  },
  {
   "cell_type": "code",
   "execution_count": null,
   "metadata": {
    "collapsed": true
   },
   "outputs": [],
   "source": []
  }
 ],
 "metadata": {
  "anaconda-cloud": {},
  "kernelspec": {
   "display_name": "Python [conda env:gpy27-devel]",
   "language": "python",
   "name": "conda-env-gpy27-devel-py"
  },
  "language_info": {
   "codemirror_mode": {
    "name": "ipython",
    "version": 2
   },
   "file_extension": ".py",
   "mimetype": "text/x-python",
   "name": "python",
   "nbconvert_exporter": "python",
   "pygments_lexer": "ipython2",
   "version": "2.7.13"
  }
 },
 "nbformat": 4,
 "nbformat_minor": 1
}
